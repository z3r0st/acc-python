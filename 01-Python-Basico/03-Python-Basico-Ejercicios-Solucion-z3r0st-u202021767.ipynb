{
 "cells": [
  {
   "cell_type": "markdown",
   "metadata": {},
   "source": [
    "___\n",
    "\n",
    "<a href='https://jupyter-notebook.readthedocs.io/en/stable/examples/Notebook/Running%20Code.html'> <img src='https://www.python.org/static/img/python-logo.png' /></a>\n",
    "___\n",
    "# Python Basico - Ejercicios\n",
    "\n"
   ]
  },
  {
   "cell_type": "markdown",
   "metadata": {},
   "source": [
    "## Ejercicios\n",
    "\n",
    "Responda las preguntas o complete las tareas descritas en negrita a continuación, use el método específico descrito si corresponde."
   ]
  },
  {
   "cell_type": "markdown",
   "metadata": {},
   "source": [
    "** ¿Cuánto es 7 elevado a 4?**"
   ]
  },
  {
   "cell_type": "code",
   "execution_count": 1,
   "metadata": {},
   "outputs": [
    {
     "data": {
      "text/plain": [
       "2401"
      ]
     },
     "execution_count": 1,
     "metadata": {},
     "output_type": "execute_result"
    }
   ],
   "source": [
    "7**4"
   ]
  },
  {
   "cell_type": "markdown",
   "metadata": {},
   "source": [
    "** Divida esta cadena:**\n",
    "\n",
    "    s = \"Hola mi estimado!\"\n",
    "    \n",
    "**en una lista. **"
   ]
  },
  {
   "cell_type": "code",
   "execution_count": 6,
   "metadata": {},
   "outputs": [],
   "source": [
    "s = \"Hola mi estimado!\""
   ]
  },
  {
   "cell_type": "code",
   "execution_count": 7,
   "metadata": {},
   "outputs": [
    {
     "data": {
      "text/plain": [
       "['Hola', 'mi', 'estimado!']"
      ]
     },
     "execution_count": 7,
     "metadata": {},
     "output_type": "execute_result"
    }
   ],
   "source": [
    "s = s.split()\n",
    "s"
   ]
  },
  {
   "cell_type": "markdown",
   "metadata": {},
   "source": [
    "** Dadas las variables:**\n",
    "\n",
    "    planeta = \"Tierra\"\n",
    "    diametro = 12742\n",
    "\n",
    "** Use .format() para visualizar la siguente frase: **\n",
    "\n",
    "    El diametro de la Tierra es 12742 kilometros."
   ]
  },
  {
   "cell_type": "code",
   "execution_count": 9,
   "metadata": {},
   "outputs": [],
   "source": [
    "planeta = \"Tierra\"\n",
    "diametro = 12742"
   ]
  },
  {
   "cell_type": "code",
   "execution_count": 10,
   "metadata": {},
   "outputs": [
    {
     "name": "stdout",
     "output_type": "stream",
     "text": [
      "El diametro de la Tierra es 12742 kilometros.\n"
     ]
    }
   ],
   "source": [
    "print(f\"El diametro de la {planeta} es {diametro} kilometros.\")"
   ]
  },
  {
   "cell_type": "markdown",
   "metadata": {},
   "source": [
    "** Dada esta lista anidada, use la indexación para obtener la palabra \"hola\"**"
   ]
  },
  {
   "cell_type": "code",
   "execution_count": 12,
   "metadata": {},
   "outputs": [],
   "source": [
    "lst = [1,2,[3,4],[5,[100,200,['hola']],23,11],1,7]"
   ]
  },
  {
   "cell_type": "code",
   "execution_count": 15,
   "metadata": {},
   "outputs": [
    {
     "data": {
      "text/plain": [
       "'hola'"
      ]
     },
     "execution_count": 15,
     "metadata": {},
     "output_type": "execute_result"
    }
   ],
   "source": [
    "lst[3][1][2][0]"
   ]
  },
  {
   "cell_type": "markdown",
   "metadata": {},
   "source": [
    "** Dado este diccionario nido, tome la palabra \"hola\". Esté preparado, esto será molesto / complicado  **"
   ]
  },
  {
   "cell_type": "code",
   "execution_count": 17,
   "metadata": {},
   "outputs": [],
   "source": [
    "d = {'k1':[1,2,3,{'dificil':['oh','man','inicio',{'destino':[1,2,3,'hola']}]}]}"
   ]
  },
  {
   "cell_type": "code",
   "execution_count": 18,
   "metadata": {},
   "outputs": [
    {
     "data": {
      "text/plain": [
       "'hola'"
      ]
     },
     "execution_count": 18,
     "metadata": {},
     "output_type": "execute_result"
    }
   ],
   "source": [
    "d['k1'][3]['dificil'][3]['destino'][3]"
   ]
  },
  {
   "cell_type": "markdown",
   "metadata": {},
   "source": [
    "** ¿Cuál es la principal diferencia entre una tupla y una lista? **"
   ]
  },
  {
   "cell_type": "markdown",
   "metadata": {},
   "source": [
    "La lista es mutable mientras que la tupla es inmutable."
   ]
  },
  {
   "cell_type": "markdown",
   "metadata": {},
   "source": [
    "** Cree una función que tome el dominio del sitio web de correo electrónico a partir de una cadena con el siguiente formato: **\n",
    "\n",
    "    user@dominio.com\n",
    "    \n",
    "**Entonces, por ejemplo, pasando \"user@domain.com\" retornaria: domain.com**"
   ]
  },
  {
   "cell_type": "code",
   "execution_count": 21,
   "metadata": {},
   "outputs": [],
   "source": [
    "def get_domain(email_adress):\n",
    "    return email_adress.split('@')[1]"
   ]
  },
  {
   "cell_type": "code",
   "execution_count": 22,
   "metadata": {},
   "outputs": [
    {
     "data": {
      "text/plain": [
       "'dominio.com'"
      ]
     },
     "execution_count": 22,
     "metadata": {},
     "output_type": "execute_result"
    }
   ],
   "source": [
    "get_domain('user@dominio.com')"
   ]
  },
  {
   "cell_type": "markdown",
   "metadata": {},
   "source": [
    "** Cree una función básica que devuelva Verdadero si la palabra 'perro' está contenida en la cadena de entrada. No se preocupe por casos extremos como una puntuación que se adjunta a la palabra perro, pero tenga en cuenta las mayúsculas. **"
   ]
  },
  {
   "cell_type": "code",
   "execution_count": 23,
   "metadata": {},
   "outputs": [],
   "source": [
    "def find_dog(text):\n",
    "    if 'perro' in text.strip().replace('.', '').split():\n",
    "        return True\n",
    "    return False"
   ]
  },
  {
   "cell_type": "code",
   "execution_count": 25,
   "metadata": {},
   "outputs": [
    {
     "data": {
      "text/plain": [
       "True"
      ]
     },
     "execution_count": 25,
     "metadata": {},
     "output_type": "execute_result"
    }
   ],
   "source": [
    "find_dog('Esta el perro aqui?')"
   ]
  },
  {
   "cell_type": "markdown",
   "metadata": {},
   "source": [
    "** Cree una función que cuente el número de veces que aparece la palabra \"perro\" en una cadena. Nuevamente ignore los casos extremos. **"
   ]
  },
  {
   "cell_type": "code",
   "execution_count": 28,
   "metadata": {},
   "outputs": [],
   "source": [
    "def count_dog(text):\n",
    "    count = 0\n",
    "    for item in text.strip().replace('.', '').split():\n",
    "        if 'perro' == item:\n",
    "            count += 1\n",
    "    \n",
    "    return count"
   ]
  },
  {
   "cell_type": "code",
   "execution_count": 29,
   "metadata": {},
   "outputs": [
    {
     "data": {
      "text/plain": [
       "2"
      ]
     },
     "execution_count": 29,
     "metadata": {},
     "output_type": "execute_result"
    }
   ],
   "source": [
    "count_dog('Este perro corre mas rapido que este otro perro no lo dudes!')"
   ]
  },
  {
   "cell_type": "markdown",
   "metadata": {},
   "source": [
    "** Utilice expresiones lambda y la función filter () para filtrar las palabras de una lista que comiencen con la letra 's'. Por ejemplo:**\n",
    "\n",
    "    seq = ['sopa','perro','salida','gato','excelente']\n",
    "\n",
    "**debe filtrarse solo:**\n",
    "\n",
    "    ['sopa','salida']"
   ]
  },
  {
   "cell_type": "code",
   "execution_count": 31,
   "metadata": {},
   "outputs": [],
   "source": [
    "seq = ['sopa','perro','salida','gato','excelente']"
   ]
  },
  {
   "cell_type": "code",
   "execution_count": 35,
   "metadata": {},
   "outputs": [
    {
     "data": {
      "text/plain": [
       "['sopa', 'salida']"
      ]
     },
     "execution_count": 35,
     "metadata": {},
     "output_type": "execute_result"
    }
   ],
   "source": [
    "list(filter(lambda word: word[0].lower() == 's', seq))"
   ]
  },
  {
   "cell_type": "markdown",
   "metadata": {},
   "source": [
    "### Ejercicio Final\n",
    "**Conduces demasiado rápido y un policía te detiene. Escribe una función para devolver uno de los 3 resultados posibles: \"Sin papeleta\", \"Papeleta NO GRAVE\" o \"Papeleta GRAVE\".\n",
    "   Si tu velocidad es de 60 o menos, el resultado es \"Sin papeleta\". Si la velocidad está entre 61\n",
    "   y 80 inclusive, el resultado es \"Papeleta NO GRAVE\". Si la velocidad es 81 o más, el resultado es \"Papeleta GRAVE\". A menos que sea tu cumpleaños (codificado como un valor booleano en los parámetros de la función), en tu cumpleaños, la velocidad puede ser 5 más alta en total de casos. **"
   ]
  },
  {
   "cell_type": "code",
   "execution_count": 36,
   "metadata": {},
   "outputs": [],
   "source": [
    "def calcula_velocidad(velocidad, es_mi_cumple):\n",
    "    if es_mi_cumple:\n",
    "        velocidad -= 5\n",
    "    if velocidad <= 60:\n",
    "        return 'Sin papeleta'\n",
    "    elif velocidad <= 80:\n",
    "        return 'Papeleta NO GRAVE'\n",
    "    else:\n",
    "        return 'Papeleta GRAVE'\n"
   ]
  },
  {
   "cell_type": "code",
   "execution_count": 37,
   "metadata": {},
   "outputs": [
    {
     "data": {
      "text/plain": [
       "'Papeleta NO GRAVE'"
      ]
     },
     "execution_count": 37,
     "metadata": {},
     "output_type": "execute_result"
    }
   ],
   "source": [
    "calcula_velocidad(81,True)"
   ]
  },
  {
   "cell_type": "code",
   "execution_count": 38,
   "metadata": {},
   "outputs": [
    {
     "data": {
      "text/plain": [
       "'Papeleta GRAVE'"
      ]
     },
     "execution_count": 38,
     "metadata": {},
     "output_type": "execute_result"
    }
   ],
   "source": [
    "calcula_velocidad(81,False)"
   ]
  },
  {
   "cell_type": "markdown",
   "metadata": {},
   "source": [
    "# Buen trabajo!"
   ]
  }
 ],
 "metadata": {
  "kernelspec": {
   "display_name": "Python 3 (ipykernel)",
   "language": "python",
   "name": "python3"
  },
  "language_info": {
   "codemirror_mode": {
    "name": "ipython",
    "version": 3
   },
   "file_extension": ".py",
   "mimetype": "text/x-python",
   "name": "python",
   "nbconvert_exporter": "python",
   "pygments_lexer": "ipython3",
   "version": "3.9.7"
  }
 },
 "nbformat": 4,
 "nbformat_minor": 1
}
